{
 "cells": [
  {
   "cell_type": "markdown",
   "metadata": {},
   "source": [
    "# Server Local Tests\n",
    "\n",
    "Services tested localy before be transformed in a REST call."
   ]
  },
  {
   "cell_type": "code",
   "execution_count": 1,
   "metadata": {},
   "outputs": [],
   "source": [
    "import json\n",
    "import sys\n",
    "# sys.path.insert(0, \"..\")\n",
    "from notebookServer import NotebookDM"
   ]
  },
  {
   "cell_type": "code",
   "execution_count": 2,
   "metadata": {},
   "outputs": [
    {
     "name": "stdout",
     "output_type": "stream",
     "text": [
      "['classic', 'jacinto']\n"
     ]
    }
   ],
   "source": [
    "dataman = NotebookDM()\n",
    "print(dataman.templateFamiliesList())"
   ]
  },
  {
   "cell_type": "markdown",
   "metadata": {},
   "source": [
    "# Case List"
   ]
  },
  {
   "cell_type": "code",
   "execution_count": 2,
   "metadata": {},
   "outputs": [
    {
     "name": "stdout",
     "output_type": "stream",
     "text": [
      "['case004-cabot', 'case001-development', 'case005', 'case002-original-forklift', 'case003-zombie-health']\n"
     ]
    }
   ],
   "source": [
    "dataman = NotebookDM()\n",
    "print(dataman.casesList())"
   ]
  },
  {
   "cell_type": "markdown",
   "metadata": {},
   "source": [
    "# Load Case"
   ]
  },
  {
   "cell_type": "code",
   "execution_count": 3,
   "metadata": {
    "scrolled": false
   },
   "outputs": [
    {
     "name": "stdout",
     "output_type": "stream",
     "text": [
      "{\"caseMd\": \"== Case 001 (presentation) ==\\nMan, 51 years old, present to an emergency department complaining of chest pain.\\n![Forklift](images/patient-in-bed.svg)\\n++ Start -> Level 1\\n\\n== Level 1 (dialog) ==\\n:Nurse: Doctor, we have a man (51 years old) who entered the emergency department reporting chest pain. His vital signs are ABP: 144x92mmHG; HR: 78bpm; RR: 21rpm; Temp: 37oC; O2Sat: 98%.\\n\\n:Doctor: Let\\u2019s go!\\n\\n:Patient: Doctor, I am feeling chest pain since yesterday. The pain is continuous and is located just in the middle of my chest, worsening when I breathe and when I lay down on my bed. I suffer from arterial hypertension and smoke 20 cigarettes every day. My father had a \\u201cheart attack\\u201d at my age and I am very worried about it. \\n\\n:Doctor: I did a physical examination and the cardiac and pulmonary auscultation are normal; chest pain does not worse with palpation of the thorax; there is no jugular stasis nor lower limb edema.\\n\\n:Jacinto: What do you want to do?\\n\\n++ Generate hypothesis (control) -> Generate hypothesis 1\\n++ More information (control) -> More information 1\\n++ Call the supervisor (control) -> Call the supervisor 1\\n\\n== Generate hypothesis 1 (tablet) ==\\nWhat is your main diagnostic hypothesis?\\n{?1 hypothesis:mesh}\\n\\n++ Submit hypothesis -> Check hypothesis 1\\n\\n== More information 1 (presnotice) ==\\nThe patient never felt chest pain before. He exercises regularly and has lost weight in the last three months. He takes amlodipine and losartan regularly.\\n\\nTwo weeks ago, he had an auto-limited gastroenteritis episode. He denies recent travels and surgery .\\n\\n== Call the supervisor 1 ==\\nHi! I am glad that you called me. Chest pain is an important complaint at the emergency department and we have to exclude the fatal causes: myocardial infarction (MI), acute aortic dissection (AAD), pulmonary embolism PE), hypertensive pneumothorax (HP), and Boerhaave Syndrome (BS).\\n\\nThe best way to find out what is happening with your patient, my young padawan, is to gather as much information as possible through history taking and physical examination. We need to search for the signs and symptoms that can guide our clinical reasoning process by changing the pre-test probabilities of each disease.\\n\\nDo you know the concept of Likelihood ratio (LR)? -> Likelihood Ratio\\n\\n++ Clinical History Myocardial Infarction\\n++ Physical Examination Myocardial Infarction\\n++ Clinical History Aortic Dissection\\n++ Physical Examination Aortic Dissection\\n++ Pulmonary Embolism Wells Criteria\\n++ Back to the Case -> Level 1\\n\\n\\nHypertensive pneumothorax is more common in tall and thin young adults (primary pneumothorax) or in patients with chronic pulmonary diseases or chest trauma (secondary pneumothorax). On physical examination, we expect asymmetry in lung auscultation and the trachea may be dislocated to the contralateral side of the pneumothorax.\\n\\nBoerhaave Syndrome is more common in patients who presented vomiting before the chest pain started, were submitted to endoscopic procedures or had chest trauma.\\n\\nHow does this information can help you to solve your case?\\n\\n== Likelihood Ratio (notice) ==\\n\\nLikelihood ratio (LR) - like sensitivity and specificity, LR describe the discriminatory power of features in a clinical context, estimating the probability of disease. When the LR is higher than 1, the feature increases the probability; when lower than 1, reduces it.\\n\\n== Clinical History Myocardial Infarction (notice) ==\\n![Clinical History Myocardial Infarction](images/ebm-clinical-history-myocardial-infarction.png)\\n\\n== Physical Examination Myocardial Infarction (notice) ==\\n![Physical Examination Myocardial Infarction](images/ebm-physical-examination-myocardial-infarction.png)\\n\\n== Clinical History Aortic Dissection (notice) ==\\n![Clinical History Aortic Dissection](images/ebm-clinical-history-aortic-dissection.png)\\n\\n== Physical Examination Aortic Dissection (notice) ==\\n![Physical Examination Aortic Dissection](images/ebm-physical-examination-aortic-dissection.png)\\n\\n== Pulmonary Embolism Wells Criteria (notice) ==\\n![Pulmonary Embolism Wells Criteria](images/ebm-pulmonary-embolism-wells-criteria.png)\\n\\n== Check hypothesis 1 (tablet) ==\\n\\nLet us check out your hypothesis.\\n\\nIn the next screen, highlight in green the findings that corroborate your hypothesis, \\nin blue those that are neutral and in red the ones speaking against your hypothesis.\\n\\n++ Proceed -> Check hypothesis 1b\\n\\n== Check hypothesis 1b (selector) ==\\n\\n{{symptoms#contribution to diagnostics: ,+,=,-;lightgrey,green,blue,red\\nNurse: Doctor, please you have to evaluate a {man(male)} ({51 years-old(aging=51)#=}) who entered the emergency department reporting {chest pain#=}.His vital signs are {ABP: 144x92mmHG#=}; {HR: 78bpm#=}; {RR: 21rpm#=}; {Temp: 37oC#=}; {O2Sat: 98%#=}.\\n\\nPatient: Doctor, I am feeling chest pain since yesterday. The {pain is continuous#=} and {is located just in the middle of my chest#=}, {worsening when I breathe#+} and {when I lay down on my bed#+}. I have {arterial hypertension#-} and {I smoke 20 cigarettes(smoking=20/day)#-} every day. {My father had a \\\"heart attack\\\"#-} at my age and I am very worried about it.\\n\\nYou perform physical examination: {cardiac and pulmonary auscultation are normal#-}; {chest pain does not worse with palpation of the thorax#=}; {there is no jugular stasis#=} {nor lower limb edema#=}.\\n}}\\n++ Submit -> Order EKG \\n\\n== Order EKG ==\\nOur patient denies any recent long trip, immobilization or surgery.\\n\\nThe blood pressure is symmetric in the four limbs. \\n\\nGame: What do you want to do?\\n++ Generate hypothesis -> Generate hypothesis 2\\n++ Get more information -> More information 2\\n++ Call the supervisor -> Call the supervisor 2\\n\\nEKG:\\n\\n![EKG](images/ekg-original.png)\\n\\n== Generate hypothesis 2 (tablet) ==\\nWhat is your main diagnostic hypothesis?\\n{?1 hypothesis:mesh}\\n++ Submit hypothesis -> Check hypothesis 2\\n\\n== More information 2 (notice) ==\\n\\nEKG description\\n![EKG Description](images/ekg-description.png)\\n\\n++ EKG Analysis\\n\\n== EKG Analysis (notice) ==\\n\\nImage zoom.\\n\\n== Call the supervisor 2 (presnotice) ==\\n![EKG-A](images/ampliacao-eletro.gif)\\n\\nWe did not find features that increase the likelihood of myocardial ischemia. Moreover, our patient has a pleuritic chest pain that gets worse when the patient lays down.\\n\\nIn the EKG we found ST-segment elevation in almost all leads. Also, we found a depression of the PR segment in the DII lead.\\n\\n== Check hypothesis 2 ==\\n![EKG-A](images/ampliacao-eletro.gif)\\n++ Submit -> Final report\\n\\n== Final report ==\\n# Feedback\\nScore: ...\\nEvaluation: ...\\nTwo columns\"}\n"
     ]
    }
   ],
   "source": [
    "dataman = NotebookDM()\n",
    "result = dataman.loadCase(\"case001-development\")\n",
    "print(json.dumps({\"caseMd\": result}))"
   ]
  },
  {
   "cell_type": "markdown",
   "metadata": {},
   "source": [
    "# Save Case"
   ]
  },
  {
   "cell_type": "code",
   "execution_count": 2,
   "metadata": {},
   "outputs": [
    {
     "name": "stdout",
     "output_type": "stream",
     "text": [
      "{\"versionFile\": \"case_2019-01-30-14-54-36_b9f6a25c-24af-11e9-8467-a088b44f5e74.md\"}\n"
     ]
    }
   ],
   "source": [
    "dataman = NotebookDM()\n",
    "md = \"== Case Test ==\\nThis is a case test.\"\n",
    "versionFile = dataman.saveCase(\"case001-development\", md)\n",
    "print(json.dumps({\"versionFile\": versionFile}))"
   ]
  },
  {
   "cell_type": "markdown",
   "metadata": {},
   "source": [
    "# Load Template"
   ]
  },
  {
   "cell_type": "code",
   "execution_count": 3,
   "metadata": {},
   "outputs": [
    {
     "name": "stdout",
     "output_type": "stream",
     "text": [
      "{\"template\": \"<svg\\n   xmlns:xhtml=\\\"http://www.w3.org/1999/xhtml\\\"\\n   xmlns:dc=\\\"http://purl.org/dc/elements/1.1/\\\"\\n   xmlns:cc=\\\"http://creativecommons.org/ns#\\\"\\n   xmlns:rdf=\\\"http://www.w3.org/1999/02/22-rdf-syntax-ns#\\\"\\n   xmlns:svg=\\\"http://www.w3.org/2000/svg\\\"\\n   xmlns=\\\"http://www.w3.org/2000/svg\\\"\\n   xmlns:xlink=\\\"http://www.w3.org/1999/xlink\\\"\\n   xmlns:sodipodi=\\\"http://sodipodi.sourceforge.net/DTD/sodipodi-0.dtd\\\"\\n   xmlns:inkscape=\\\"http://www.inkscape.org/namespaces/inkscape\\\"\\n   width=\\\"100%\\\"\\n   height=\\\"100%\\\"\\n   viewBox=\\\"0 0 1380.8701 700\\\"\\n   version=\\\"1.1\\\"\\n   id=\\\"svg102\\\"\\n   inkscape:version=\\\"0.92.3 (2405546, 2018-03-11)\\\"\\n   sodipodi:docname=\\\"decision.svg\\\">\\n  <metadata\\n     id=\\\"metadata106\\\">\\n    <rdf:RDF>\\n      <cc:Work\\n         rdf:about=\\\"\\\">\\n        <dc:format>image/svg+xml</dc:format>\\n        <dc:type\\n           rdf:resource=\\\"http://purl.org/dc/dcmitype/StillImage\\\" />\\n        <dc:title />\\n      </cc:Work>\\n    </rdf:RDF>\\n  </metadata>\\n  <sodipodi:namedview\\n     pagecolor=\\\"#ffffff\\\"\\n     bordercolor=\\\"#666666\\\"\\n     borderopacity=\\\"1\\\"\\n     objecttolerance=\\\"10\\\"\\n     gridtolerance=\\\"10\\\"\\n     guidetolerance=\\\"10\\\"\\n     inkscape:pageopacity=\\\"0\\\"\\n     inkscape:pageshadow=\\\"2\\\"\\n     inkscape:window-width=\\\"1299\\\"\\n     inkscape:window-height=\\\"704\\\"\\n     id=\\\"namedview104\\\"\\n     showgrid=\\\"false\\\"\\n     inkscape:zoom=\\\"0.73125002\\\"\\n     inkscape:cx=\\\"766.33563\\\"\\n     inkscape:cy=\\\"356.58933\\\"\\n     inkscape:window-x=\\\"67\\\"\\n     inkscape:window-y=\\\"27\\\"\\n     inkscape:window-maximized=\\\"1\\\"\\n     inkscape:current-layer=\\\"svg102\\\" />\\n  <defs\\n     id=\\\"defs14\\\">\\n    <style\\n       id=\\\"style2\\\">\\n      .cls-1, .cls-12, .cls-15, .cls-18 {\\n        fill: #fff;\\n      }\\n\\n      .cls-1, .cls-5 {\\n        stroke: #a2a2a2;\\n      }\\n\\n      .cls-2 {\\n        clip-path: url(#clip-Experimente_1_5);\\n      }\\n\\n      .cls-3 {\\n        fill: url(#pattern);\\n      }\\n\\n      .cls-4 {\\n        fill: #e3e3e3;\\n      }\\n\\n      .cls-24, .cls-5 {\\n        fill: none;\\n      }\\n\\n      .cls-6 {\\n        fill: #707070;\\n      }\\n\\n      .cls-15, .cls-18, .cls-6 {\\n        font-size: 20px;\\n      }\\n\\n      .cls-15, .cls-20, .cls-6 {\\n        font-family: Tahoma, Geneva, sans-serif;\\n      }\\n\\n      .cls-7 {\\n        clip-path: url(#clip-path);\\n      }\\n\\n      .cls-8 {\\n        fill: #009b3a;\\n      }\\n\\n      .cls-9 {\\n        fill: #fedf00;\\n      }\\n\\n      .cls-10 {\\n        fill: #002776;\\n      }\\n\\n      .cls-11 {\\n        clip-path: url(#clip-path-2);\\n      }\\n\\n      .cls-13 {\\n        fill: #346e93;\\n      }\\n\\n      .cls-14 {\\n        fill: #ba2027;\\n      }\\n\\n      .cls-16 {\\n        fill: #0d4a71;\\n      }\\n\\n      .cls-17 {\\n        fill: #d6d6d6;\\n      }\\n\\n      .cls-18, .cls-21 {\\n        font-family: Tahoma, Geneva, sans-serif;\\n        font-weight: 700;\\n      }\\n\\n      .cls-19 {\\n        fill: #0d7114;\\n      }\\n\\n      .cls-20, .cls-21 {\\n        fill: #545454;\\n        font-size: 12px;\\n      }\\n\\n      .cls-22 {\\n        fill: #fee611;\\n      }\\n\\n      .cls-23 {\\n        stroke: none;\\n      }\\n    </style>\\n    <pattern\\n       id=\\\"pattern\\\"\\n       preserveAspectRatio=\\\"xMidYMid slice\\\"\\n       width=\\\"100%\\\"\\n       height=\\\"100%\\\"\\n       viewBox=\\\"0 0 1920 1080\\\" />\\n    <clipPath\\n       id=\\\"clip-path\\\">\\n      <rect\\n         id=\\\"Rectangle_32\\\"\\n         data-name=\\\"Rectangle 32\\\"\\n         class=\\\"cls-1\\\"\\n         width=\\\"48\\\"\\n         height=\\\"32\\\"\\n         rx=\\\"16\\\"\\n         transform=\\\"translate(1625,10.217)\\\"\\n         x=\\\"0\\\"\\n         y=\\\"0\\\"\\n         style=\\\"fill:#ffffff;stroke:#a2a2a2\\\" />\\n    </clipPath>\\n    <clipPath\\n       id=\\\"clip-path-2\\\">\\n      <circle\\n         id=\\\"Ellipse_8\\\"\\n         data-name=\\\"Ellipse 8\\\"\\n         cx=\\\"8.3999996\\\"\\n         cy=\\\"8.3999996\\\"\\n         r=\\\"8.3999996\\\" />\\n    </clipPath>\\n    <clipPath\\n       id=\\\"clip-Experimente_1_5\\\">\\n      <rect\\n         width=\\\"1920\\\"\\n         height=\\\"1080\\\"\\n         id=\\\"rect11\\\"\\n         x=\\\"0\\\"\\n         y=\\\"0\\\" />\\n    </clipPath>\\n  </defs>\\n  <image\\n     xlink:href=\\\"images/hospital-background.png\\\"\\n     y=\\\"71.079224\\\"\\n     x=\\\"244.12265\\\"\\n     id=\\\"image4087\\\"\\n     preserveAspectRatio=\\\"none\\\"\\n     height=\\\"597.91913\\\"\\n     width=\\\"1136.7474\\\" />\\n  <g\\n     data-name=\\\"Back arrow\\\"\\n     id=\\\"back-arrow\\\"\\n     transform=\\\"translate(-151,-194)\\\">\\n    <circle\\n       style=\\\"fill:#346e93\\\"\\n       transform=\\\"translate(151,194)\\\"\\n       r=\\\"36.5\\\"\\n       cy=\\\"36.5\\\"\\n       cx=\\\"36.5\\\"\\n       class=\\\"cls-13\\\"\\n       data-name=\\\"Ellipse 5\\\"\\n       id=\\\"Ellipse_5\\\" />\\n    <path\\n       style=\\\"fill:#ffffff\\\"\\n       inkscape:connector-curvature=\\\"0\\\"\\n       transform=\\\"translate(-653.108,45.012)\\\"\\n       d=\\\"m 863.02,182.135 h -30.292 a 0.519,0.519 0 0 1 -0.367,-0.887 l 6.732,-6.732 a 0.519,0.519 0 0 0 0,-0.734 l -4.641,-4.641 a 0.519,0.519 0 0 0 -0.734,0 l -12.995,12.995 h -0.054 v 0.054 l -3.409,3.41 a 0.52,0.52 0 0 0 0,0.735 l 16.457,16.457 a 0.519,0.519 0 0 0 0.734,0 l 4.641,-4.641 a 0.519,0.519 0 0 0 0,-0.734 l -6.788,-6.788 a 0.519,0.519 0 0 1 0.367,-0.887 h 30.349 a 0.519,0.519 0 0 0 0.519,-0.519 v -6.564 a 0.519,0.519 0 0 0 -0.519,-0.524 z\\\"\\n       class=\\\"cls-12\\\"\\n       data-name=\\\"Path 320\\\"\\n       id=\\\"Path_320\\\" />\\n  </g>\\n  <foreignObject>\\n     <dcc-trigger action=\\\"navigate/previous-knot\\\" label=\\\"Previous Knot\\\" xstyle=\\\"out-image\\\" location=\\\"back-arrow\\\"></dcc-trigger>\\n  </foreignObject>\\n  <g\\n     style=\\\"fill:none;stroke:#ffffff\\\"\\n     class=\\\"cls-5\\\"\\n     data-name=\\\"Rectangle 39\\\"\\n     id=\\\"Rectangle_39\\\"\\n     transform=\\\"translate(286.08545,285)\\\">\\n    <rect\\n       style=\\\"stroke:none\\\"\\n       y=\\\"0\\\"\\n       x=\\\"0\\\"\\n       id=\\\"rect4545\\\"\\n       rx=\\\"12\\\"\\n       height=\\\"129\\\"\\n       width=\\\"840\\\"\\n       class=\\\"cls-25\\\" />\\n    <rect\\n       style=\\\"fill:none\\\"\\n       id=\\\"rect4547\\\"\\n       rx=\\\"11.5\\\"\\n       height=\\\"180\\\"\\n       width=\\\"839\\\"\\n       y=\\\"0.5\\\"\\n       x=\\\"0.5\\\"\\n       class=\\\"cls-26\\\" />\\n  </g>\\n  <foreignObject\\n     data-name=\\\"speech\\\"\\n     x=\\\"320\\\"\\n     y=\\\"100\\\"\\n     width=\\\"550\\\"\\n     height=\\\"200\\\">\\n    <xhtml:p\\n       id=\\\"talk-speech-1\\\"\\n       class=\\\"cls-15\\\"\\n       style=\\\"font-size:20px;font-family:Tahoma, Geneva, sans-serif;color:#ffffff\\\"></xhtml:p>\\n  </foreignObject>\\n  <foreignObject\\n     data-name=\\\"description\\\"\\n     x=\\\"320\\\"\\n     y=\\\"280\\\"\\n     width=\\\"600\\\"\\n     height=\\\"180\\\">\\n    <div\\n       id=\\\"description\\\"\\n       class=\\\"cls-15\\\"\\n       style=\\\"font-size:20px;font-family:Tahoma, Geneva, sans-serif;color:#ffffff\\\">\\n      <dcc-styler xstyle=\\\"out\\\" locations=\\\"action-1;action-2;action-3\\\">\\n         <dcc-dialog>\\n            {knot}\\n         </dcc-dialog>\\n      </dcc-styler>\\n    </div>\\n  </foreignObject>\\n  <g\\n     style=\\\"fill:#ffffff;stroke:#707070\\\"\\n     class=\\\"cls-4\\\"\\n     data-name=\\\"Rectangle 36\\\"\\n     id=\\\"Rectangle_36\\\"\\n     transform=\\\"translate(286.08545,485.6859)\\\">\\n    <rect\\n       style=\\\"stroke:none\\\"\\n       y=\\\"0\\\"\\n       x=\\\"0\\\"\\n       id=\\\"rect4540\\\"\\n       rx=\\\"12\\\"\\n       height=\\\"144\\\"\\n       width=\\\"840\\\"\\n       class=\\\"cls-25\\\" />\\n    <rect\\n       style=\\\"fill:none\\\"\\n       id=\\\"rect4542\\\"\\n       rx=\\\"11.5\\\"\\n       height=\\\"143\\\"\\n       width=\\\"839\\\"\\n       y=\\\"0.5\\\"\\n       x=\\\"0.5\\\"\\n       class=\\\"cls-26\\\" />\\n  </g>\\n  <image\\n     xlink:href=\\\"\\\"\\n     width=\\\"375.4201\\\"\\n     height=\\\"543.65814\\\"\\n     preserveAspectRatio=\\\"none\\\"\\n     id=\\\"talk-image-1\\\"\\n     x=\\\"904.30768\\\"\\n     y=\\\"133.47008\\\" />\\n  <rect\\n     style=\\\"fill:#0d4a71\\\"\\n     y=\\\"587\\\"\\n     x=\\\"1015\\\"\\n     rx=\\\"23.5\\\"\\n     height=\\\"47\\\"\\n     width=\\\"212\\\"\\n     class=\\\"cls-16\\\"\\n     data-name=\\\"Rectangle 40\\\"\\n     id=\\\"Rectangle_40\\\" />\\n  <text\\n     style=\\\"font-weight:700;font-size:20px;font-family:Tahoma, Geneva, sans-serif;fill:#ffffff\\\"\\n     class=\\\"cls-18\\\"\\n     data-name=\\\"character\\\"\\n     id=\\\"talk-character-1\\\"\\n     x=\\\"1050\\\"\\n     y=\\\"619\\\">character</text>\\n  <rect\\n     style=\\\"font-size:20px;font-family:Tahoma, Geneva, sans-serif;fill:#ba2027\\\"\\n     y=\\\"544.35254\\\"\\n     x=\\\"301.73779\\\"\\n     rx=\\\"29.5\\\"\\n     height=\\\"59\\\"\\n     width=\\\"212\\\"\\n     class=\\\"cls-15\\\"\\n     visibility=\\\"hidden\\\"\\n     data-name=\\\"Action 1 Wrapper\\\"\\n     id=\\\"action-1-wrapper\\\" />\\n  <rect\\n     style=\\\"font-size:20px;font-family:Tahoma, Geneva, sans-serif;fill:#ba2027\\\"\\n     y=\\\"544.35254\\\"\\n     x=\\\"528.73779\\\"\\n     rx=\\\"29.5\\\"\\n     height=\\\"59\\\"\\n     width=\\\"212\\\"\\n     class=\\\"cls-15\\\"\\n     visibility=\\\"hidden\\\"\\n     data-name=\\\"Action 2 Wrapper\\\"\\n     id=\\\"action-2-wrapper\\\" />\\n  <rect\\n     style=\\\"font-size:20px;font-family:Tahoma, Geneva, sans-serif;fill:#ba2027\\\"\\n     y=\\\"544.35254\\\"\\n     x=\\\"757.73779\\\"\\n     rx=\\\"29.5\\\"\\n     height=\\\"59\\\"\\n     width=\\\"212\\\"\\n     class=\\\"cls-15\\\"\\n     visibility=\\\"hidden\\\"\\n     data-name=\\\"Action 3 Wrapper\\\"\\n     id=\\\"action-3-wrapper\\\" />\\n  <foreignObject\\n     data-name=\\\"Action 1\\\"\\n     x=\\\"308\\\"\\n     y=\\\"563\\\"\\n     width=\\\"200\\\"\\n     height=\\\"30\\\">\\n    <div\\n       id=\\\"action-1\\\"\\n       class=\\\"cls-16\\\"\\n       style=\\\"font-size:18px;font-family:Tahoma, Geneva, sans-serif;color:#ffffff;text-align:center;width:100%\\\">\\n        action\\n     </div>\\n  </foreignObject>\\n  <foreignObject\\n     data-name=\\\"Action 2\\\"\\n     x=\\\"535\\\"\\n     y=\\\"563\\\"\\n     width=\\\"200\\\"\\n     height=\\\"30\\\">\\n    <div\\n       id=\\\"action-2\\\"\\n       class=\\\"cls-16\\\"\\n       style=\\\"font-size:18px;font-family:Tahoma, Geneva, sans-serif;color:#ffffff;text-align:center;width:100%\\\">\\n        action\\n     </div>\\n  </foreignObject>\\n  <foreignObject\\n     data-name=\\\"Action 3\\\"\\n     x=\\\"763\\\"\\n     y=\\\"563\\\"\\n     width=\\\"200\\\"\\n     height=\\\"30\\\">\\n    <div\\n       id=\\\"action-3\\\"\\n       class=\\\"cls-16\\\"\\n       style=\\\"font-size:18px;font-family:Tahoma, Geneva, sans-serif;color:#ffffff;text-align:center;width:100%\\\">\\n        action\\n     </div>\\n  </foreignObject>\\n  <text\\n     style=\\\"font-weight:700;font-size:28px;font-family:Tahoma, Geneva, sans-serif;fill:#346e93\\\"\\n     class=\\\"cls-18\\\"\\n     data-name=\\\"Question\\\"\\n     id=\\\"Question\\\"\\n     x=\\\"303.73779\\\"\\n     y=\\\"492.35257\\\">\\n    <tspan\\n       id=\\\"talk-speech-2\\\"\\n       y=\\\"522.35254\\\"\\n       x=\\\"303.73779\\\">Question</tspan>\\n  </text>\\n</svg>\\n\"}\n"
     ]
    }
   ],
   "source": [
    "dataman = NotebookDM()\n",
    "result = dataman.loadTemplate(\"jacinto\", \"information\")\n",
    "print(json.dumps({\"template\": result}))"
   ]
  },
  {
   "cell_type": "markdown",
   "metadata": {},
   "source": [
    " # Prepare Case HTML"
   ]
  },
  {
   "cell_type": "code",
   "execution_count": 2,
   "metadata": {},
   "outputs": [
    {
     "name": "stdout",
     "output_type": "stream",
     "text": [
      "{\"status\": \"ok\"}\n"
     ]
    }
   ],
   "source": [
    "dataman = NotebookDM()\n",
    "dataman.prepareCaseHTML(\"jacinto\", \"case001-development\")\n",
    "print(json.dumps({\"status\": \"ok\"}))"
   ]
  },
  {
   "cell_type": "markdown",
   "metadata": {},
   "source": [
    "# Save Knot HTML"
   ]
  },
  {
   "cell_type": "code",
   "execution_count": 3,
   "metadata": {},
   "outputs": [
    {
     "name": "stdout",
     "output_type": "stream",
     "text": [
      "{\"status\": \"ok\"}\n"
     ]
    }
   ],
   "source": [
    "dataman = NotebookDM()\n",
    "html = \"<html><body><h1>This is a test</h1></body></html>\"\n",
    "dataman.saveKnotHTML(\"case001-development\", \"test.html\", html)\n",
    "print(json.dumps({\"status\": \"ok\"}))"
   ]
  },
  {
   "cell_type": "markdown",
   "metadata": {},
   "source": [
    "# Save Case Script"
   ]
  },
  {
   "cell_type": "code",
   "execution_count": 2,
   "metadata": {},
   "outputs": [
    {
     "name": "stdout",
     "output_type": "stream",
     "text": [
      "{\"status\": \"ok\"}\n"
     ]
    }
   ],
   "source": [
    "dataman = NotebookDM()\n",
    "js = \"// some JS script\"\n",
    "dataman.saveCaseScript(\"case001-development\", \"test.js\", js)\n",
    "print(json.dumps({\"status\": \"ok\"}))"
   ]
  }
 ],
 "metadata": {
  "kernelspec": {
   "display_name": "Python 3",
   "language": "python",
   "name": "python3"
  },
  "language_info": {
   "codemirror_mode": {
    "name": "ipython",
    "version": 3
   },
   "file_extension": ".py",
   "mimetype": "text/x-python",
   "name": "python",
   "nbconvert_exporter": "python",
   "pygments_lexer": "ipython3",
   "version": "3.6.7"
  }
 },
 "nbformat": 4,
 "nbformat_minor": 2
}
