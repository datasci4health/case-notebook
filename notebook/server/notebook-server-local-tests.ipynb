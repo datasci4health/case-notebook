{
 "cells": [
  {
   "cell_type": "markdown",
   "metadata": {},
   "source": [
    "# Server Local Tests\n",
    "\n",
    "Services tested localy before be transformed in a REST call."
   ]
  },
  {
   "cell_type": "code",
   "execution_count": 1,
   "metadata": {},
   "outputs": [],
   "source": [
    "import json\n",
    "import sys\n",
    "# sys.path.insert(0, \"..\")\n",
    "from notebookServer import NotebookDM"
   ]
  },
  {
   "cell_type": "markdown",
   "metadata": {},
   "source": [
    "# Template Famlies List"
   ]
  },
  {
   "cell_type": "code",
   "execution_count": 2,
   "metadata": {
    "scrolled": true
   },
   "outputs": [
    {
     "name": "stdout",
     "output_type": "stream",
     "text": [
      "['classic', 'jacinto', 'zombie']\n"
     ]
    }
   ],
   "source": [
    "dataman = NotebookDM()\n",
    "print(dataman.templateFamiliesList())"
   ]
  },
  {
   "cell_type": "markdown",
   "metadata": {},
   "source": [
    "# Case List"
   ]
  },
  {
   "cell_type": "code",
   "execution_count": null,
   "metadata": {},
   "outputs": [],
   "source": [
    "dataman = NotebookDM()\n",
    "print(dataman.casesList())"
   ]
  },
  {
   "cell_type": "markdown",
   "metadata": {},
   "source": [
    "# New Blank Case"
   ]
  },
  {
   "cell_type": "code",
   "execution_count": 2,
   "metadata": {},
   "outputs": [
    {
     "name": "stdout",
     "output_type": "stream",
     "text": [
      "_temporary\n"
     ]
    }
   ],
   "source": [
    "dataman = NotebookDM()\n",
    "print(dataman.newCase())"
   ]
  },
  {
   "cell_type": "markdown",
   "metadata": {},
   "source": [
    "# Load Case"
   ]
  },
  {
   "cell_type": "code",
   "execution_count": 3,
   "metadata": {
    "scrolled": false
   },
   "outputs": [
    {
     "name": "stdout",
     "output_type": "stream",
     "text": [
      "{\"caseMd\": \"# Knot 01\\n\"}\n"
     ]
    }
   ],
   "source": [
    "dataman = NotebookDM()\n",
    "result = dataman.loadCase(\"_temporary\")\n",
    "print(json.dumps({\"caseMd\": result}))"
   ]
  },
  {
   "cell_type": "markdown",
   "metadata": {},
   "source": [
    "# Save Case"
   ]
  },
  {
   "cell_type": "code",
   "execution_count": null,
   "metadata": {},
   "outputs": [],
   "source": [
    "dataman = NotebookDM()\n",
    "md = \"== Case Test ==\\nThis is a case test.\"\n",
    "versionFile = dataman.saveCase(\"case001-development\", md)\n",
    "print(json.dumps({\"versionFile\": versionFile}))"
   ]
  },
  {
   "cell_type": "markdown",
   "metadata": {},
   "source": [
    "# Rename Case"
   ]
  },
  {
   "cell_type": "code",
   "execution_count": 2,
   "metadata": {},
   "outputs": [
    {
     "name": "stdout",
     "output_type": "stream",
     "text": [
      "ok\n"
     ]
    }
   ],
   "source": [
    "dataman = NotebookDM()\n",
    "result = dataman.renameCase(\"_temporary\", \"case015-hello\")\n",
    "print(result)"
   ]
  },
  {
   "cell_type": "markdown",
   "metadata": {},
   "source": [
    "# Load Capsule"
   ]
  },
  {
   "cell_type": "code",
   "execution_count": null,
   "metadata": {},
   "outputs": [],
   "source": [
    "dataman = NotebookDM()\n",
    "result = dataman.loadKnotCapsule()\n",
    "print(json.dumps({\"capsule\": result}))"
   ]
  },
  {
   "cell_type": "markdown",
   "metadata": {},
   "source": [
    "# Load Template"
   ]
  },
  {
   "cell_type": "code",
   "execution_count": null,
   "metadata": {},
   "outputs": [],
   "source": [
    "dataman = NotebookDM()\n",
    "result = dataman.loadTemplate(\"classic\", \"notice\")\n",
    "print(json.dumps({\"template\": result}))"
   ]
  },
  {
   "cell_type": "markdown",
   "metadata": {},
   "source": [
    "# Load non existent Template"
   ]
  },
  {
   "cell_type": "code",
   "execution_count": null,
   "metadata": {},
   "outputs": [],
   "source": [
    "dataman = NotebookDM()\n",
    "result = dataman.loadTemplate(\"classic\", \"information\")\n",
    "print(json.dumps({\"template\": result}))"
   ]
  },
  {
   "cell_type": "markdown",
   "metadata": {},
   "source": [
    " # Prepare Case HTML"
   ]
  },
  {
   "cell_type": "code",
   "execution_count": null,
   "metadata": {},
   "outputs": [],
   "source": [
    "dataman = NotebookDM()\n",
    "dataman.prepareCaseHTML(\"jacinto\", \"case001-development\")\n",
    "print(json.dumps({\"status\": \"ok\"}))"
   ]
  },
  {
   "cell_type": "markdown",
   "metadata": {},
   "source": [
    "# Save Knot HTML"
   ]
  },
  {
   "cell_type": "code",
   "execution_count": null,
   "metadata": {},
   "outputs": [],
   "source": [
    "dataman = NotebookDM()\n",
    "html = \"<html><body><h1>This is a test</h1></body></html>\"\n",
    "dataman.saveKnotHTML(\"case001-development\", \"test.html\", html)\n",
    "print(json.dumps({\"status\": \"ok\"}))"
   ]
  },
  {
   "cell_type": "markdown",
   "metadata": {},
   "source": [
    "# Save Case Script"
   ]
  },
  {
   "cell_type": "code",
   "execution_count": null,
   "metadata": {},
   "outputs": [],
   "source": [
    "dataman = NotebookDM()\n",
    "js = \"// some JS script\"\n",
    "dataman.saveCaseScript(\"case001-development\", \"test.js\", js)\n",
    "print(json.dumps({\"status\": \"ok\"}))"
   ]
  }
 ],
 "metadata": {
  "kernelspec": {
   "display_name": "Python 3",
   "language": "python",
   "name": "python3"
  },
  "language_info": {
   "codemirror_mode": {
    "name": "ipython",
    "version": 3
   },
   "file_extension": ".py",
   "mimetype": "text/x-python",
   "name": "python",
   "nbconvert_exporter": "python",
   "pygments_lexer": "ipython3",
   "version": "3.6.7"
  }
 },
 "nbformat": 4,
 "nbformat_minor": 2
}
