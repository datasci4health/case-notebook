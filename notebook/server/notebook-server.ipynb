{
 "cells": [
  {
   "cell_type": "markdown",
   "metadata": {},
   "source": [
    "# Turn any Jupyter notebook into a REST API\n",
    "\n",
    "It uses the Jupyter Kernel Gateway: https://test-jupyterkernelgateway.readthedocs.io/en/latest/index.html\n",
    "\n",
    "Adapted to POST from the tutorial of Eliot Andres:\n",
    "https://ndres.me/post/jupyter-notebook-rest-api/\n",
    "\n",
    "To start the server run in the terminal:\n",
    "## Linux\n",
    "~~~~\n",
    "~/.local/bin/jupyter kernelgateway --KernelGatewayApp.api='kernel_gateway.notebook_http' --KernelGatewayApp.seed_uri='~/git/case-notebook/notebook/authoring/author-server.ipynb' --KernelGatewayApp.allow_origin='*' --KernelGatewayApp.allow_methods='POST, GET, OPTIONS' --KernelGatewayApp.allow_headers='Content-Type'\n",
    "~~~~\n",
    "## Windows\n",
    "~~~~\n",
    "jupyter kernelgateway --KernelGatewayApp.api='kernel_gateway.notebook_http' --KernelGatewayApp.seed_uri='/Users/<User>/git/case-notebook/notebook/authoring/author-server.ipynb' --KernelGatewayApp.allow_origin='*' --KernelGatewayApp.allow_methods='POST, GET, OPTIONS' --KernelGatewayApp.allow_headers='Content-Type'\n",
    "~~~~\n",
    "\n",
    "* `--KernelGatewayApp.allow_origin='*'` -> accepts all origins (better restrict in the future)\n",
    "* `--KernelGatewayApp.allow_methods='POST, GET, OPTIONS'` -> accepted types of request\n",
    "* `--KernelGatewayApp.allow_headers='Content-Type'` -> things that can appear in the header\n",
    "\n",
    "Details at:\n",
    "\n",
    "* Jupyter Kernel Gateway configuration: https://test-jupyterkernelgateway.readthedocs.io/en/latest/config-options.html"
   ]
  },
  {
   "cell_type": "code",
   "execution_count": 1,
   "metadata": {},
   "outputs": [],
   "source": [
    "import json\n",
    "import sys\n",
    "sys.path.insert(0, \"lib\")\n",
    "from authorServer import AuthorDM"
   ]
  },
  {
   "cell_type": "code",
   "execution_count": null,
   "metadata": {},
   "outputs": [],
   "source": [
    "# POST /cases-list\n",
    "req = json.loads(REQUEST)\n",
    "dataman = AuthorDM()\n",
    "print(json.dumps({'casesList': dataman.casesList()}))"
   ]
  },
  {
   "cell_type": "code",
   "execution_count": null,
   "metadata": {},
   "outputs": [],
   "source": [
    "# POST /load-case\n",
    "req = json.loads(REQUEST)\n",
    "body = req['body']\n",
    "caseName = body['caseName']\n",
    "\n",
    "dataman = AuthorDM()\n",
    "result = dataman.loadCase(caseName)\n",
    "print(json.dumps({'caseMd': result}))"
   ]
  },
  {
   "cell_type": "code",
   "execution_count": null,
   "metadata": {},
   "outputs": [],
   "source": [
    "# POST /load-template\n",
    "req = json.loads(REQUEST)\n",
    "body = req['body']\n",
    "templateName = body['templateName']\n",
    "\n",
    "dataman = AuthorDM()\n",
    "result = dataman.loadTemplate(templateName)\n",
    "print(json.dumps({'template': result}))"
   ]
  }
 ],
 "metadata": {
  "kernelspec": {
   "display_name": "Python 3",
   "language": "python",
   "name": "python3"
  },
  "language_info": {
   "codemirror_mode": {
    "name": "ipython",
    "version": 3
   },
   "file_extension": ".py",
   "mimetype": "text/x-python",
   "name": "python",
   "nbconvert_exporter": "python",
   "pygments_lexer": "ipython3",
   "version": "3.7.2"
  }
 },
 "nbformat": 4,
 "nbformat_minor": 2
}
